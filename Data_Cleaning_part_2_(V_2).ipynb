{
  "nbformat": 4,
  "nbformat_minor": 0,
  "metadata": {
    "colab": {
      "provenance": [],
      "collapsed_sections": []
    },
    "kernelspec": {
      "name": "python3",
      "display_name": "Python 3"
    },
    "language_info": {
      "name": "python"
    }
  },
  "cells": [
    {
      "cell_type": "code",
      "execution_count": null,
      "metadata": {
        "colab": {
          "base_uri": "https://localhost:8080/"
        },
        "id": "nQkrxJpf6WT3",
        "outputId": "ed56d3c7-d1c2-42b9-9434-8280fd05c925"
      },
      "outputs": [
        {
          "output_type": "stream",
          "name": "stdout",
          "text": [
            "Drive already mounted at /content/drive; to attempt to forcibly remount, call drive.mount(\"/content/drive\", force_remount=True).\n"
          ]
        }
      ],
      "source": [
        "from google.colab import drive\n",
        "drive.mount('/content/drive')"
      ]
    },
    {
      "cell_type": "code",
      "source": [
        "pip install kmodes"
      ],
      "metadata": {
        "id": "kM5iei3Y6f-Q"
      },
      "execution_count": null,
      "outputs": []
    },
    {
      "cell_type": "code",
      "source": [
        "#@title Import\n",
        "import pandas as pd\n",
        "import pandas as pd\n",
        "import random\n",
        "import numpy as np\n",
        "import datetime\n",
        "import time\n",
        "import matplotlib.pyplot as plt\n",
        "import math\n",
        "from scipy.stats import norm\n",
        "import scipy\n",
        "from  kmodes.kprototypes import KPrototypes\n",
        "from sklearn.cluster import KMeans\n",
        "from sklearn.preprocessing import PowerTransformer\n",
        "from sklearn.cluster import KMeans"
      ],
      "metadata": {
        "cellView": "form",
        "id": "-bTatqEC8iL-"
      },
      "execution_count": null,
      "outputs": []
    },
    {
      "cell_type": "code",
      "source": [
        "#@title Reading the data\n",
        "df = pd.read_csv(\"/content/drive/My Drive/Thesis-data/CH3_F_10000.csv\",low_memory=False)\n",
        "df['time d'] = pd.to_datetime(df['time d']).dt.hour"
      ],
      "metadata": {
        "id": "OHW8MSY16jz7"
      },
      "execution_count": null,
      "outputs": []
    },
    {
      "cell_type": "code",
      "source": [
        "df.head()"
      ],
      "metadata": {
        "colab": {
          "base_uri": "https://localhost:8080/",
          "height": 204
        },
        "id": "OWlAtIfh6wXa",
        "outputId": "3ef4575a-7522-48a2-de67-7754bfdaffa8"
      },
      "execution_count": null,
      "outputs": [
        {
          "output_type": "execute_result",
          "data": {
            "text/plain": [
              "        ID        Date   Day_name      d  time d  duration  distance  \\\n",
              "0  7871296  2020-01-21    Tuesday  123.0       6        13       0.0   \n",
              "1  7871296  2020-01-21    Tuesday   92.0      19        12       0.0   \n",
              "2  7871296  2020-01-22  Wednesday  123.0       6        12       0.0   \n",
              "3  7871296  2020-01-22  Wednesday   92.0      18        12       0.0   \n",
              "4  7871296  2020-01-23   Thursday  123.0       6         8       0.0   \n",
              "\n",
              "         stations  \n",
              "0  (123.0, 123.0)  \n",
              "1    (92.0, 92.0)  \n",
              "2  (123.0, 123.0)  \n",
              "3    (92.0, 92.0)  \n",
              "4  (123.0, 123.0)  "
            ],
            "text/html": [
              "\n",
              "  <div id=\"df-737170fb-f1fd-4aea-9135-8f70f1aaab90\">\n",
              "    <div class=\"colab-df-container\">\n",
              "      <div>\n",
              "<style scoped>\n",
              "    .dataframe tbody tr th:only-of-type {\n",
              "        vertical-align: middle;\n",
              "    }\n",
              "\n",
              "    .dataframe tbody tr th {\n",
              "        vertical-align: top;\n",
              "    }\n",
              "\n",
              "    .dataframe thead th {\n",
              "        text-align: right;\n",
              "    }\n",
              "</style>\n",
              "<table border=\"1\" class=\"dataframe\">\n",
              "  <thead>\n",
              "    <tr style=\"text-align: right;\">\n",
              "      <th></th>\n",
              "      <th>ID</th>\n",
              "      <th>Date</th>\n",
              "      <th>Day_name</th>\n",
              "      <th>d</th>\n",
              "      <th>time d</th>\n",
              "      <th>duration</th>\n",
              "      <th>distance</th>\n",
              "      <th>stations</th>\n",
              "    </tr>\n",
              "  </thead>\n",
              "  <tbody>\n",
              "    <tr>\n",
              "      <th>0</th>\n",
              "      <td>7871296</td>\n",
              "      <td>2020-01-21</td>\n",
              "      <td>Tuesday</td>\n",
              "      <td>123.0</td>\n",
              "      <td>6</td>\n",
              "      <td>13</td>\n",
              "      <td>0.0</td>\n",
              "      <td>(123.0, 123.0)</td>\n",
              "    </tr>\n",
              "    <tr>\n",
              "      <th>1</th>\n",
              "      <td>7871296</td>\n",
              "      <td>2020-01-21</td>\n",
              "      <td>Tuesday</td>\n",
              "      <td>92.0</td>\n",
              "      <td>19</td>\n",
              "      <td>12</td>\n",
              "      <td>0.0</td>\n",
              "      <td>(92.0, 92.0)</td>\n",
              "    </tr>\n",
              "    <tr>\n",
              "      <th>2</th>\n",
              "      <td>7871296</td>\n",
              "      <td>2020-01-22</td>\n",
              "      <td>Wednesday</td>\n",
              "      <td>123.0</td>\n",
              "      <td>6</td>\n",
              "      <td>12</td>\n",
              "      <td>0.0</td>\n",
              "      <td>(123.0, 123.0)</td>\n",
              "    </tr>\n",
              "    <tr>\n",
              "      <th>3</th>\n",
              "      <td>7871296</td>\n",
              "      <td>2020-01-22</td>\n",
              "      <td>Wednesday</td>\n",
              "      <td>92.0</td>\n",
              "      <td>18</td>\n",
              "      <td>12</td>\n",
              "      <td>0.0</td>\n",
              "      <td>(92.0, 92.0)</td>\n",
              "    </tr>\n",
              "    <tr>\n",
              "      <th>4</th>\n",
              "      <td>7871296</td>\n",
              "      <td>2020-01-23</td>\n",
              "      <td>Thursday</td>\n",
              "      <td>123.0</td>\n",
              "      <td>6</td>\n",
              "      <td>8</td>\n",
              "      <td>0.0</td>\n",
              "      <td>(123.0, 123.0)</td>\n",
              "    </tr>\n",
              "  </tbody>\n",
              "</table>\n",
              "</div>\n",
              "      <button class=\"colab-df-convert\" onclick=\"convertToInteractive('df-737170fb-f1fd-4aea-9135-8f70f1aaab90')\"\n",
              "              title=\"Convert this dataframe to an interactive table.\"\n",
              "              style=\"display:none;\">\n",
              "        \n",
              "  <svg xmlns=\"http://www.w3.org/2000/svg\" height=\"24px\"viewBox=\"0 0 24 24\"\n",
              "       width=\"24px\">\n",
              "    <path d=\"M0 0h24v24H0V0z\" fill=\"none\"/>\n",
              "    <path d=\"M18.56 5.44l.94 2.06.94-2.06 2.06-.94-2.06-.94-.94-2.06-.94 2.06-2.06.94zm-11 1L8.5 8.5l.94-2.06 2.06-.94-2.06-.94L8.5 2.5l-.94 2.06-2.06.94zm10 10l.94 2.06.94-2.06 2.06-.94-2.06-.94-.94-2.06-.94 2.06-2.06.94z\"/><path d=\"M17.41 7.96l-1.37-1.37c-.4-.4-.92-.59-1.43-.59-.52 0-1.04.2-1.43.59L10.3 9.45l-7.72 7.72c-.78.78-.78 2.05 0 2.83L4 21.41c.39.39.9.59 1.41.59.51 0 1.02-.2 1.41-.59l7.78-7.78 2.81-2.81c.8-.78.8-2.07 0-2.86zM5.41 20L4 18.59l7.72-7.72 1.47 1.35L5.41 20z\"/>\n",
              "  </svg>\n",
              "      </button>\n",
              "      \n",
              "  <style>\n",
              "    .colab-df-container {\n",
              "      display:flex;\n",
              "      flex-wrap:wrap;\n",
              "      gap: 12px;\n",
              "    }\n",
              "\n",
              "    .colab-df-convert {\n",
              "      background-color: #E8F0FE;\n",
              "      border: none;\n",
              "      border-radius: 50%;\n",
              "      cursor: pointer;\n",
              "      display: none;\n",
              "      fill: #1967D2;\n",
              "      height: 32px;\n",
              "      padding: 0 0 0 0;\n",
              "      width: 32px;\n",
              "    }\n",
              "\n",
              "    .colab-df-convert:hover {\n",
              "      background-color: #E2EBFA;\n",
              "      box-shadow: 0px 1px 2px rgba(60, 64, 67, 0.3), 0px 1px 3px 1px rgba(60, 64, 67, 0.15);\n",
              "      fill: #174EA6;\n",
              "    }\n",
              "\n",
              "    [theme=dark] .colab-df-convert {\n",
              "      background-color: #3B4455;\n",
              "      fill: #D2E3FC;\n",
              "    }\n",
              "\n",
              "    [theme=dark] .colab-df-convert:hover {\n",
              "      background-color: #434B5C;\n",
              "      box-shadow: 0px 1px 3px 1px rgba(0, 0, 0, 0.15);\n",
              "      filter: drop-shadow(0px 1px 2px rgba(0, 0, 0, 0.3));\n",
              "      fill: #FFFFFF;\n",
              "    }\n",
              "  </style>\n",
              "\n",
              "      <script>\n",
              "        const buttonEl =\n",
              "          document.querySelector('#df-737170fb-f1fd-4aea-9135-8f70f1aaab90 button.colab-df-convert');\n",
              "        buttonEl.style.display =\n",
              "          google.colab.kernel.accessAllowed ? 'block' : 'none';\n",
              "\n",
              "        async function convertToInteractive(key) {\n",
              "          const element = document.querySelector('#df-737170fb-f1fd-4aea-9135-8f70f1aaab90');\n",
              "          const dataTable =\n",
              "            await google.colab.kernel.invokeFunction('convertToInteractive',\n",
              "                                                     [key], {});\n",
              "          if (!dataTable) return;\n",
              "\n",
              "          const docLinkHtml = 'Like what you see? Visit the ' +\n",
              "            '<a target=\"_blank\" href=https://colab.research.google.com/notebooks/data_table.ipynb>data table notebook</a>'\n",
              "            + ' to learn more about interactive tables.';\n",
              "          element.innerHTML = '';\n",
              "          dataTable['output_type'] = 'display_data';\n",
              "          await google.colab.output.renderOutput(dataTable, element);\n",
              "          const docLink = document.createElement('div');\n",
              "          docLink.innerHTML = docLinkHtml;\n",
              "          element.appendChild(docLink);\n",
              "        }\n",
              "      </script>\n",
              "    </div>\n",
              "  </div>\n",
              "  "
            ]
          },
          "metadata": {},
          "execution_count": 46
        }
      ]
    },
    {
      "cell_type": "code",
      "source": [
        "#@title Clustering the actvivties into 3 major clusters\n",
        "dataee = df.copy()\n",
        "dataee = df.iloc[:,[4,5]]\n",
        "dataee.head()\n",
        "##\n",
        "kprot_data = dataee.copy()\n",
        "for c in dataee.select_dtypes(exclude='object').columns:\n",
        "    pt = PowerTransformer()\n",
        "    kprot_data[c] =  pt.fit_transform(np.array(kprot_data[c]).reshape(-1, 1))\n",
        "##\n",
        "kprot_data['duration'] = kprot_data['duration'] * 2\n",
        "##\n",
        "kproto = KMeans(n_clusters = 3, init ='k-means++')\n",
        "clusters = kproto.fit_predict(kprot_data)\n",
        "\n",
        "## KProto algorithm\n",
        "# kproto = KPrototypes(n_clusters=3,init='Cao', n_jobs=50)\n",
        "# categorical_columns= [0]\n",
        "# clusters = kproto.fit_predict(dataee, categorical=categorical_columns)\n",
        "##\n",
        "cluster_lables = kproto.labels_\n",
        "kprot_data['z'] = cluster_lables\n",
        "dataee['z'] = cluster_lables\n",
        "df['z'] = cluster_lables"
      ],
      "metadata": {
        "id": "rY9vWyoS7Bs5"
      },
      "execution_count": null,
      "outputs": []
    },
    {
      "cell_type": "code",
      "source": [
        "#@title Cluster description (attributes average)\n",
        "dataT10 = df\n",
        "print('Duration')\n",
        "print(\"%.2f\" % np.average(dataT10[dataT10['z']==0]['duration']))\n",
        "print(\"%.2f\" % np.average(dataT10[dataT10['z']==1]['duration']))\n",
        "print(\"%.2f\" % np.average(dataT10[dataT10['z']==2]['duration']))\n",
        "####\n",
        "print('Time')\n",
        "print(\"%.2f\" % np.average(dataT10[dataT10['z']==0]['time d']))\n",
        "print(\"%.2f\" % np.average(dataT10[dataT10['z']==1]['time d']))\n",
        "print(\"%.2f\" % np.average(dataT10[dataT10['z']==2]['time d']))"
      ],
      "metadata": {
        "id": "rb_xI-Wf9L3O"
      },
      "execution_count": null,
      "outputs": []
    },
    {
      "cell_type": "code",
      "source": [
        "#@title Finding the home location\n",
        "datauc = df.copy()\n",
        "datauc['indx'] = datauc.index\n",
        "\n",
        "data_home= datauc[datauc['z']==2]\n",
        "df_home = data_home.groupby(['ID', 'd']).size().reset_index(name=\"Time\")\n",
        "df_home = df_home.sort_values('Time')\n",
        "df_home = pd.DataFrame(df_home)\n",
        "datauc['home_location'] = pd.Series(dtype='object')\n",
        "\n",
        "def home_location(x):\n",
        "\n",
        "    datauc.at[x['indx'],'home_location'] =  df_home[df_home['ID']== x['ID']]['d'].unique().tolist()\n",
        "    return datauc\n",
        "\n",
        "datauc.apply(home_location, axis=1)\n",
        "\n",
        "print(len(datauc[datauc['z']==1]))\n",
        "\n",
        "def other_home(x):\n",
        "\n",
        "  if x['d'] in x['home_location']:\n",
        "    datauc.at[x['indx'],'z']=102\n",
        "    df.at[x['indx'],'z']=102\n",
        "  return df\n",
        "\n",
        "datauc[datauc['z']==1].apply(other_home,axis=1)\n",
        "print(len(datauc[datauc['z']==1]))"
      ],
      "metadata": {
        "id": "gt4kJDbi_cc7"
      },
      "execution_count": null,
      "outputs": []
    },
    {
      "cell_type": "code",
      "source": [
        "#@title Frequnecy\n",
        "data = datauc.copy()\n",
        "df = data.groupby([\"z\", \"ID\", 'd']).size().reset_index(name=\"Time\")\n",
        "df = df.sort_values('Time')\n",
        "data['index'] = data.index\n",
        "\n",
        "\n",
        "def frequency(x):\n",
        "\n",
        "    z = x['z']\n",
        "    idd = x['ID']\n",
        "    d = x['d']\n",
        "    index = x['index']\n",
        "\n",
        "    data.at[index, 'frequency'] = df[ (df['z'] == z) & (df['ID'] == idd) & (df['d'] == d) ]['Time'].values[0]\n",
        "\n",
        "    return data\n",
        "\n",
        "data.apply(frequency, axis=1)\n",
        "data_all = data.copy()"
      ],
      "metadata": {
        "id": "4z_5pjrx_3sM"
      },
      "execution_count": null,
      "outputs": []
    },
    {
      "cell_type": "code",
      "source": [
        "data_all.to_csv(\"/content/drive/My Drive/Thesis-data/data_all_with_frequency_10000_1398-11_extra.csv\",index=False)"
      ],
      "metadata": {
        "id": "TolPuVloPuzD"
      },
      "execution_count": null,
      "outputs": []
    },
    {
      "cell_type": "markdown",
      "source": [
        "# Calculating the frequency for \"other\" activities"
      ],
      "metadata": {
        "id": "uwf6eh6nLQD2"
      }
    },
    {
      "cell_type": "code",
      "source": [
        "data_all  = pd.read_csv('/content/drive/My Drive/Thesis-data/data_all_with_frequency_10000_1399-11_extra.csv',low_memory=False)"
      ],
      "metadata": {
        "id": "PwozxivMKdy7"
      },
      "execution_count": null,
      "outputs": []
    },
    {
      "cell_type": "code",
      "source": [
        "#@title Choosing the \"other\" cluster\n",
        "data_other = data_all[data_all['z']== 1]"
      ],
      "metadata": {
        "id": "VSrf0k41LjAe"
      },
      "execution_count": null,
      "outputs": []
    },
    {
      "cell_type": "code",
      "source": [
        "#@title clustering the \"other\" cluster intor 4 major groups for calculating the frequency\n",
        "dataee = data_other.iloc[:,[4,5]]\n",
        "## Scalar ##\n",
        "kprot_data = dataee.copy()\n",
        "for c in dataee.select_dtypes(exclude='object').columns:\n",
        "    pt = PowerTransformer()\n",
        "    kprot_data[c] =  pt.fit_transform(np.array(kprot_data[c]).reshape(-1, 1))\n",
        "## KMean ##\n",
        "kproto = KMeans(n_clusters = 4, init ='k-means++')\n",
        "clusters = kproto.fit_predict(kprot_data)\n",
        "## Cluster labels\n",
        "cluster_lables = kproto.labels_\n",
        "dataee['z'] = cluster_lables\n",
        "data_other['z'] = cluster_lables"
      ],
      "metadata": {
        "id": "Ui8HSSQOLJGa"
      },
      "execution_count": null,
      "outputs": []
    },
    {
      "cell_type": "code",
      "source": [
        "#@title Cluster description (attributes average)\n",
        "dataT10 = dataee\n",
        "print('Duration')\n",
        "print(\"%.2f\" % np.average(dataT10[dataT10['z']==0]['duration']))\n",
        "print(\"%.2f\" % np.average(dataT10[dataT10['z']==1]['duration']))\n",
        "print(\"%.2f\" % np.average(dataT10[dataT10['z']==2]['duration']))\n",
        "print(\"%.2f\" % np.average(dataT10[dataT10['z']==3]['duration']))\n",
        "\n",
        "# #\n",
        "print('Time')\n",
        "print(\"%.2f\" % np.average(dataT10[dataT10['z']==0]['time d']))\n",
        "print(\"%.2f\" % np.average(dataT10[dataT10['z']==1]['time d']))\n",
        "print(\"%.2f\" % np.average(dataT10[dataT10['z']==2]['time d']))\n",
        "print(\"%.2f\" % np.average(dataT10[dataT10['z']==3]['time d']))"
      ],
      "metadata": {
        "id": "I1Kd3MBnMQ5h"
      },
      "execution_count": null,
      "outputs": []
    },
    {
      "cell_type": "code",
      "source": [
        "#@title Calculating the activity frequency\n",
        "## Frquency ##\n",
        "data = data_other\n",
        "df = data.groupby([\"z\", \"ID\", 'd']).size().reset_index(name=\"Time\")\n",
        "df = df.sort_values('Time')\n",
        "data['index'] = data.index\n",
        "\n",
        "def frequency(x):\n",
        "\n",
        "    z = x['z']\n",
        "    idd = x['ID']\n",
        "    d = x['d']\n",
        "    index = x['index']\n",
        "\n",
        "    data.at[index, 'frequency'] = df[ (df['z'] == z) & (df['ID'] == idd) & (df['d'] == d) ]['Time'].values[0]\n",
        "\n",
        "    return data\n",
        "    \n",
        "data.apply(frequency, axis=1)\n",
        "print(data.head())"
      ],
      "metadata": {
        "id": "iCaZzuZ-NXEC"
      },
      "execution_count": null,
      "outputs": []
    },
    {
      "cell_type": "code",
      "source": [
        "data.to_csv(\"/content/drive/My Drive/Thesis-data/CH3_F_10000_other(F)_1398-11_extra.csv\",index=False)"
      ],
      "metadata": {
        "id": "m8fAzC4SO7Cu"
      },
      "execution_count": null,
      "outputs": []
    }
  ]
}