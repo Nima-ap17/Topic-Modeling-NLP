{
  "nbformat": 4,
  "nbformat_minor": 0,
  "metadata": {
    "colab": {
      "provenance": [],
      "collapsed_sections": []
    },
    "kernelspec": {
      "name": "python3",
      "display_name": "Python 3"
    },
    "language_info": {
      "name": "python"
    }
  },
  "cells": [
    {
      "cell_type": "code",
      "execution_count": null,
      "metadata": {
        "id": "loa3FUmko_k4"
      },
      "outputs": [],
      "source": [
        "from google.colab import drive\n",
        "drive.mount('/content/drive')"
      ]
    },
    {
      "cell_type": "code",
      "source": [
        "#@title Import\n",
        "import matplotlib.pyplot as plt\n",
        "import pandas as pd\n",
        "import plotly.express as px"
      ],
      "metadata": {
        "id": "hLUFjWiWpGtL",
        "cellView": "form"
      },
      "execution_count": null,
      "outputs": []
    },
    {
      "cell_type": "markdown",
      "source": [
        "# **Area calculation for each land use category in each station**"
      ],
      "metadata": {
        "id": "P6Ct1ZU8r0Ks"
      }
    },
    {
      "cell_type": "code",
      "source": [
        "#### area for each landuse id for each station \n",
        "df = pd.read_csv(\"/content/drive/My Drive/Thesis-data/station_landuse.csv\",low_memory=False)\n",
        "df.reset_index(inplace = True, drop = True)\n",
        "\n",
        "#### data for using final label from GIS and survey?\n",
        "data4 = pd.read_csv(\"/content/drive/My Drive/Thesis-data/Subway_station_labling_wlanduse.csv\",low_memory=False)"
      ],
      "metadata": {
        "id": "5orjqRetpJfX"
      },
      "execution_count": null,
      "outputs": []
    },
    {
      "cell_type": "code",
      "source": [
        "#@title Calculating the area for each land-use category\n",
        "df2 = df.copy()\n",
        "df2['residential'] = df2['1'] + df2['22']\n",
        "df2['commercial'] = df2['2'] + df2['20']\n",
        "df2['education'] = df2['3'] + df2['4']\n",
        "df2['hospital'] = df2['8'] + df2['9']\n",
        "df2['work'] = df2['10'] + df2['21']\n",
        "df2['recreational'] = df2['5'] + df2['6'] + df2['7'] + df2['17'] + df2['18'] + df2['11']\n",
        "df2['other'] = df2['12'] + df2['13'] + df2['14'] + df2['15'] + df2['24'] + df2['19'] + df2['-1']\n",
        "\n",
        "c3 = ['residential','commercial','education','hospital','work','recreational','other','station']\n",
        "df2 = df2.iloc[:][c3]"
      ],
      "metadata": {
        "id": "5X3CXa_ppnKs"
      },
      "execution_count": null,
      "outputs": []
    },
    {
      "cell_type": "code",
      "source": [
        "#@title Adding final label to data\n",
        "df3 = df2.merge(data4, left_on= 'station', right_on= 'STATION_CODE')\n",
        "df3 = df3.drop('STATION_CODE',1)"
      ],
      "metadata": {
        "id": "T0rXOhilq5-v"
      },
      "execution_count": null,
      "outputs": []
    },
    {
      "cell_type": "markdown",
      "source": [
        "# **Importing the trip data (activity)**"
      ],
      "metadata": {
        "id": "yGMuI616v2Ro"
      }
    },
    {
      "cell_type": "code",
      "source": [
        "data_all = pd.read_csv(\"/content/drive/My Drive/Thesis-data/data_all_with_frequency_10000_1398-11_extra.csv\",low_memory=False)\n",
        "data_all = data_all.drop(['index', 'home_location', 'indx','stations','distance'],1)\n",
        "\n",
        "data_other = pd.read_csv(\"/content/drive/My Drive/Thesis-data/CH3_F_10000_other(F)_1398-11_extra.csv\",low_memory=False)\n",
        "data_other = data_other.drop(['index', 'home_location', 'indx','z','stations','distance'],1)"
      ],
      "metadata": {
        "id": "mvsR9sHbu9-O"
      },
      "execution_count": null,
      "outputs": []
    },
    {
      "cell_type": "code",
      "source": [
        "#@title Merging the lnad-use data with activites data\n",
        "data_other = data_other.merge(df3, left_on= 'd', right_on= 'station')\n",
        "data_other = data_other.drop('station',1)\n",
        "data_all = data_all.merge(df3, left_on= 'd', right_on= 'station')\n",
        "data_all = data_all.drop('station',1)"
      ],
      "metadata": {
        "id": "f6iKMpKYwUvH"
      },
      "execution_count": null,
      "outputs": []
    },
    {
      "cell_type": "markdown",
      "source": [
        "**Other category activity sampling**"
      ],
      "metadata": {
        "id": "q4NcNCgU57KH"
      }
    },
    {
      "cell_type": "code",
      "source": [
        "data_w = data_all[data_all['z']==0]\n",
        "data_e = data_w[data_w['Final_label']=='Education']\n",
        "data_e = data_e[data_e['duration'] < 8]\n",
        "data_e = data_e[data_e['time d'] > 8]"
      ],
      "metadata": {
        "id": "ykQZ1ruZ8P1W"
      },
      "execution_count": null,
      "outputs": []
    },
    {
      "cell_type": "code",
      "source": [
        "df_1 = data_other[data_other['Final_label']=='Commercial'].sample(n=1000)\n",
        "df_2 = data_other[data_other['Final_label']=='Recreational'].sample(n=1000)\n",
        "df_3 = data_other[data_other['Final_label']=='Hospital'].sample(n=100)\n",
        "df_4 = data_other[data_other['Final_label']=='Education'].sample(n=800)\n",
        "df_4_2 = data_e.sample(n=100)\n",
        "df_5 = data_other[data_other['Final_label']=='Other'].sample(n=1000)"
      ],
      "metadata": {
        "id": "usTXV3v16l56"
      },
      "execution_count": null,
      "outputs": []
    },
    {
      "cell_type": "markdown",
      "source": [
        "**Home/Work category activity sampling**"
      ],
      "metadata": {
        "id": "woDCUWZz7gu1"
      }
    },
    {
      "cell_type": "code",
      "source": [
        "# df_6 = data_all[data_all['z']==0].sample(n=1000)\n",
        "# df_7 = data_all[data_all['z']==1].sample(n=1000)"
      ],
      "metadata": {
        "id": "Tm89r-5b7exe"
      },
      "execution_count": null,
      "outputs": []
    },
    {
      "cell_type": "markdown",
      "source": [
        "**Merging the data**"
      ],
      "metadata": {
        "id": "O3ZXsNAp9Hxr"
      }
    },
    {
      "cell_type": "code",
      "source": [
        "#### OTHER ####\n",
        "df_f = df_1.append(df_2)\n",
        "df_f = df_f.append(df_3)\n",
        "df_f = df_f.append(df_4)\n",
        "df_f = df_f.append(df_4_2)\n",
        "df_f = df_f.append(df_5)\n",
        "\n",
        "df_f = df_f.drop('z',1)\n",
        "#### HOME/WORK ####\n",
        "# df_f = df_f.append(df_6)\n",
        "# df_f = df_f.append(df_7)\n",
        "\n",
        "#### Imbalanced ####\n",
        "df_f = data_other\n",
        "#df_f = df_f.append(df_4_2)\n",
        "# df_f = df_4_2\n",
        "\n",
        "df_f.reset_index(inplace = True, drop = True)\n",
        "print(len(df_f))"
      ],
      "metadata": {
        "colab": {
          "base_uri": "https://localhost:8080/"
        },
        "id": "d_B0zb2a9L9W",
        "outputId": "49f9a8fe-17a2-4c02-f029-e19af0c9678c"
      },
      "execution_count": null,
      "outputs": [
        {
          "output_type": "stream",
          "name": "stdout",
          "text": [
            "54343\n"
          ]
        },
        {
          "output_type": "stream",
          "name": "stderr",
          "text": [
            "/usr/local/lib/python3.7/dist-packages/ipykernel_launcher.py:8: FutureWarning: In a future version of pandas all arguments of DataFrame.drop except for the argument 'labels' will be keyword-only\n",
            "  \n"
          ]
        }
      ]
    },
    {
      "cell_type": "markdown",
      "source": [
        "**Normalizing the row (area variable)**"
      ],
      "metadata": {
        "id": "g2F-iKnl_U3z"
      }
    },
    {
      "cell_type": "code",
      "source": [
        "data_m = df_f.copy()\n",
        "data_m = data_m.drop(['work','residential'],1)\n",
        "\n",
        "c = ['commercial','education','hospital','recreational']\n",
        "data_m['total'] = data_m.iloc[:][c].sum(axis=1)\n",
        "\n",
        "data_n = data_m.copy()\n",
        "data_n['commercial'] = data_m['commercial']/data_m['total']\n",
        "data_n['education'] = data_m['education']/data_m['total']\n",
        "data_n['hospital'] = data_m['hospital']/data_m['total']\n",
        "data_n['recreational'] = data_m['recreational']/data_m['total']\n",
        "\n",
        "\n",
        "data_n['total'] = data_n.iloc[:][c].sum(axis=1)\n",
        "data_n.head()"
      ],
      "metadata": {
        "id": "bX7rP4Ad_RHy"
      },
      "execution_count": null,
      "outputs": []
    },
    {
      "cell_type": "markdown",
      "source": [
        "# **Saving the dataset**"
      ],
      "metadata": {
        "id": "sAEXl41KBKLU"
      }
    },
    {
      "cell_type": "code",
      "source": [
        "data_n.to_csv(\"/content/drive/My Drive/Thesis-data/data-LDA-other_without_other_imbalanced_1398_11_extra.csv\",index=False)"
      ],
      "metadata": {
        "id": "c1gkh0XkAQcE"
      },
      "execution_count": null,
      "outputs": []
    }
  ]
}