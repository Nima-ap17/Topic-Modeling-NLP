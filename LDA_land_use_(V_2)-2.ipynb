{
  "nbformat": 4,
  "nbformat_minor": 0,
  "metadata": {
    "colab": {
      "provenance": [],
      "collapsed_sections": []
    },
    "kernelspec": {
      "name": "python3",
      "display_name": "Python 3"
    },
    "language_info": {
      "name": "python"
    }
  },
  "cells": [
    {
      "cell_type": "code",
      "execution_count": null,
      "metadata": {
        "id": "WF6Kj5t5ebTu",
        "cellView": "form"
      },
      "outputs": [],
      "source": [
        "#@title Import\n",
        "import numpy as np\n",
        "import pandas as pd\n",
        "from google.colab import drive\n",
        "from sklearn.preprocessing import PowerTransformer\n",
        "from scipy.stats import t\n",
        "import matplotlib.pyplot as plt\n",
        "import random\n",
        "from tqdm import tqdm\n",
        "import math\n",
        "import seaborn as sns\n",
        "drive.mount('/content/gdrive')"
      ]
    },
    {
      "cell_type": "code",
      "source": [
        "#@title Reading the data\n",
        "df = pd.read_csv(\"/content/gdrive/My Drive/Thesis-data/data-LDA-other_without_other_imbalanced.csv\",low_memory=False)"
      ],
      "metadata": {
        "id": "r8wtsYDPqDAR"
      },
      "execution_count": null,
      "outputs": []
    },
    {
      "cell_type": "code",
      "source": [
        "#@title applying power transformer\n",
        "data = df.copy()\n",
        "for c in df.select_dtypes(exclude='object').columns:\n",
        "    pt = PowerTransformer()\n",
        "    data[c] =  pt.fit_transform(np.array(data[c]).reshape(-1, 1))"
      ],
      "metadata": {
        "id": "7Gvb_MLmqhbK"
      },
      "execution_count": null,
      "outputs": []
    },
    {
      "cell_type": "code",
      "source": [
        "#@title assigning a random cluster number to each activity\n",
        "i=0\n",
        "z=[]\n",
        "while i < len(data):\n",
        "    z.append(random.randrange(0, 14, 1))\n",
        "    i+=1\n",
        "data['z']=z"
      ],
      "metadata": {
        "id": "11Us7SYtq3Eu"
      },
      "execution_count": null,
      "outputs": []
    },
    {
      "cell_type": "code",
      "source": [
        "dt = data.copy()"
      ],
      "metadata": {
        "id": "2QCN906RDb_s"
      },
      "execution_count": null,
      "outputs": []
    },
    {
      "cell_type": "code",
      "source": [
        "#@title Probability calculation function (normal distribution with gamma priors)\n",
        "def P_normal(x,variable,scale1,data):\n",
        "\n",
        "  ## hyperparameters\n",
        "  e0 = 10**4\n",
        "  t0 = 10**4\n",
        "  k0 = 0.01\n",
        "  mo = 0\n",
        "  \n",
        "  ####\n",
        "  nz = len(data)\n",
        "  sz = sum(data[variable])\n",
        "  Sz = sum(data[variable]**2)\n",
        "\n",
        "  ### t-distribution parameters\n",
        "  v = 2*e0 + nz\n",
        "  m = (sz + k0 * mo)/(nz + k0)\n",
        "  sigma2 = (t0 + (nz*Sz - sz**2)/(2*nz) + k0*((sz-nz*mo)**2)/(2*nz*(k0+nz)) )/(e0 + 0.5*nz)\n",
        "  # print(f'sigma2 is : {sigma2} and mean is :{m}')\n",
        "  pdf = t.pdf(x,v,m,scale1*sigma2)\n",
        "  return pdf"
      ],
      "metadata": {
        "id": "XCqUxPllrCmB"
      },
      "execution_count": null,
      "outputs": []
    },
    {
      "cell_type": "code",
      "source": [
        "#@title Calculating the estimated distribution parameters function\n",
        "def distribution_parameter(variable,data,zi):\n",
        "\n",
        "  ## hyperparameters\n",
        "  e0 = 10**2\n",
        "  t0 = 10**2\n",
        "  k0 = 0.01\n",
        "  mo = 0\n",
        "  \n",
        "  ####\n",
        "  nz = len(data[data['z']==zi])\n",
        "  sz = sum(data[data['z']==zi][variable])\n",
        "  Sz = sum(data[data['z']==zi][variable]**2)\n",
        "\n",
        "  ### t-distribution parameters\n",
        "  v = 2*e0 + nz\n",
        "  m = (sz + k0 * mo)/(nz + k0)\n",
        "  sigma2 = (t0 + (nz*Sz - sz**2)/(2*nz) + k0*((sz-nz*mo)**2)/(2*nz*(k0+nz)) )/(e0 + 0.5*nz)\n",
        "\n",
        "  ## Normal distribution parameter ##\n",
        "  miu = (k0 + sz)/(k0 + nz)\n",
        "  percision = 1/sigma2\n",
        "\n",
        "  return miu,percision"
      ],
      "metadata": {
        "id": "APKtJQmedZ8s"
      },
      "execution_count": null,
      "outputs": []
    },
    {
      "cell_type": "code",
      "source": [
        "#@title calculating the mentioned probability for an activity (function)\n",
        "def probabiliy(x,zi,data):\n",
        "        zi = int(zi)\n",
        "        P1 = float(P_normal(x['time d'],'time d',1,data[data['z']==zi])) * float(P_normal(x['duration'],'duration',1,data[data['z']==zi])) * float(P_normal(x['frequency'],'frequency',1,data[data['z']==zi]))\n",
        "        P2 = float(P_normal(x['commercial'],'commercial',1.2,data[data['z']==zi])) * float(P_normal(x['education'],'education',1.2,data[data['z']==zi])) * float(P_normal(x['hospital'],'hospital',1.2,data[data['z']==zi])) * float(P_normal(x['recreational'],'recreational',1.2,data[data['z']==zi])) \n",
        "               \n",
        "        return P1 * P2"
      ],
      "metadata": {
        "id": "_ZCae3wZ_eqb"
      },
      "execution_count": null,
      "outputs": []
    },
    {
      "cell_type": "code",
      "source": [
        "#@ calculating the probability with differnet activity cluster assigned\n",
        "def P_all_Z(indx):\n",
        "  l1=[]\n",
        "  l2=[]\n",
        "  for i in range(14):\n",
        "    l1.append(i)\n",
        "    l2.append(probabiliy(data.iloc[indx],i,data))\n",
        "  data.at[indx,'z'] = l1[np.argmax(l2)]\n",
        "  df.at[indx,'z'] = l1[np.argmax(l2)]"
      ],
      "metadata": {
        "id": "E80AL-rFCcDU"
      },
      "execution_count": null,
      "outputs": []
    },
    {
      "cell_type": "code",
      "source": [
        "#@title Liklihood function\n",
        "## Liklihood ##\n",
        "def likelihood(data,k):\n",
        "  x2 = 0\n",
        "  for i in tqdm(range(len(data))):\n",
        "    x1 = 0\n",
        "    for j in range(k):\n",
        "      x1 += probabiliy(data.iloc[i],j,data)\n",
        "\n",
        "    x2 = x2 + np.log(x1)\n",
        "\n",
        "  return x2\n",
        "\n",
        "## Perplexity ##\n",
        "def perplexity(data,k):\n",
        "\n",
        "  return np.exp(-1*likelihood(data,k)/len(data))"
      ],
      "metadata": {
        "id": "jwehbKIDFK4W"
      },
      "execution_count": null,
      "outputs": []
    },
    {
      "cell_type": "code",
      "source": [
        "#likelihood(data,14)"
      ],
      "metadata": {
        "id": "S4hbYb0bGmn8"
      },
      "execution_count": null,
      "outputs": []
    },
    {
      "cell_type": "code",
      "source": [
        "#@title Gibbs sampling loop for distribution estimation\n",
        "for j in range(4):\n",
        "  print(f'iteration number is : {j}')\n",
        "  len1 = len(data[data['z']==1])\n",
        "  len2 = len(data[data['z']==2])\n",
        "  len3 = len(data[data['z']==3])\n",
        "  len4 = len(data[data['z']==4])\n",
        "  len5 = len(data[data['z']==5])\n",
        "  len6 = len(data[data['z']==6])\n",
        "  len7 = len(data[data['z']==7])\n",
        "  len8 = len(data[data['z']==8])\n",
        "  len9 = len(data[data['z']==9])\n",
        "  print(f'z1: {len1}, z2: {len2}, z3: {len3}, z4: {len4}, z5: {len5}, z6: {len6}, z7: {len7}, z8: {len8}, z9: {len9}')\n",
        "  \n",
        "  for i in tqdm(range(len(data))):\n",
        "\n",
        "    P_all_Z(i)\n"
      ],
      "metadata": {
        "colab": {
          "base_uri": "https://localhost:8080/"
        },
        "id": "ZuMLQe7TN5MQ",
        "outputId": "16aa4c65-04d0-4516-ab17-67d091c0bd68"
      },
      "execution_count": null,
      "outputs": [
        {
          "output_type": "stream",
          "name": "stdout",
          "text": [
            "iteration number is : 0\n",
            "z1: 1320, z2: 3756, z3: 7719, z4: 4801, z5: 1908, z6: 5423, z7: 1536, z8: 7883, z9: 1232\n"
          ]
        },
        {
          "output_type": "stream",
          "name": "stderr",
          "text": [
            "100%|██████████| 48065/48065 [2:52:37<00:00,  4.64it/s]\n"
          ]
        }
      ]
    },
    {
      "cell_type": "code",
      "source": [
        "len1 = len(data[data['z']==1])\n",
        "len2 = len(data[data['z']==2])\n",
        "len3 = len(data[data['z']==3])\n",
        "len4 = len(data[data['z']==4])\n",
        "len5 = len(data[data['z']==5])\n",
        "len6 = len(data[data['z']==6])\n",
        "len7 = len(data[data['z']==7])\n",
        "len8 = len(data[data['z']==8])\n",
        "len9 = len(data[data['z']==9])\n",
        "print(f'z1: {len1}, z2: {len2}, z3: {len3}, z4: {len4}, z5: {len5}, z6: {len6}, z7: {len7}, z8: {len8}, z9: {len9}')"
      ],
      "metadata": {
        "id": "Gwyrv-KDhmvZ",
        "colab": {
          "base_uri": "https://localhost:8080/"
        },
        "outputId": "caa91c9f-f0e3-4e80-de59-c345f0c1e5ff"
      },
      "execution_count": null,
      "outputs": [
        {
          "output_type": "stream",
          "name": "stdout",
          "text": [
            "z1: 1362, z2: 3526, z3: 7542, z4: 5277, z5: 1956, z6: 5471, z7: 1633, z8: 7701, z9: 1260\n"
          ]
        }
      ]
    },
    {
      "cell_type": "code",
      "source": [
        "data.to_csv(\"/content/gdrive/My Drive/Thesis-data/10000_LDA_iteration(frequency1).csv\",index=False)"
      ],
      "metadata": {
        "id": "SFhAapzohOjI"
      },
      "execution_count": null,
      "outputs": []
    },
    {
      "cell_type": "markdown",
      "source": [
        "# **Result Visualization:**"
      ],
      "metadata": {
        "id": "8uZ0cg9uGqe5"
      }
    },
    {
      "cell_type": "code",
      "source": [
        "df['z'] = data['z']"
      ],
      "metadata": {
        "id": "hc9IWDlP5TEB"
      },
      "execution_count": null,
      "outputs": []
    },
    {
      "cell_type": "code",
      "source": [
        "df['weekend']= [0]* len(df)\n",
        "df.loc[df['Day_name']=='Friday','weekend']=1\n",
        "df.loc[df['Day_name']=='Thursday','weekend']=1"
      ],
      "metadata": {
        "id": "bd3GlppoEYh_"
      },
      "execution_count": null,
      "outputs": []
    },
    {
      "cell_type": "code",
      "source": [
        "dataT10 = df.copy()\n",
        "j=14\n",
        "fig, axs = plt.subplots(j, 4)\n",
        "for i in range(j):\n",
        "  a1 = list(dataT10[dataT10['z']==i]['duration'])\n",
        "  sns.kdeplot(a1, bw_adjust=4, ax=axs[i,0])\n",
        "  axs[i,0].set_title(' Z=%d duration distribution'%i)\n",
        "  axs[i,0].set_xlim(0, 10)\n",
        "\n",
        "  a1 = list(dataT10[dataT10['z']==i]['time d'])\n",
        "  sns.kdeplot(a1, bw_adjust=4, ax=axs[i,1])\n",
        "  axs[i,1].set_title('Z=%d start-time distribution'%i)\n",
        "  axs[i,1].set_xlim(4, 24)\n",
        "\n",
        "  data_i = data[data['z']==i]\n",
        "  d = [data_i['commercial'],data_i['education'],data_i['hospital'],data_i['recreational']]\n",
        "  axs[i,2].boxplot(d, showfliers=False, showmeans=True)\n",
        "  axs[i,2].set_xticklabels(['Commercial','Educational','Health service','Recreational'], rotation=90)\n",
        "  axs[i,2].set_ylim(-3,+3)\n",
        "  axs[i,2].set_title('Z=%d Land-use area share'%i)\n",
        "\n",
        "\n",
        "  a1 = list(dataT10[dataT10['z']==i]['frequency'])\n",
        "  if math.isclose(np.var(a1), 0) == True:\n",
        "    axs[i,3].hist(a1, density=False)\n",
        "  else:\n",
        "    sns.kdeplot(a1, bw_adjust=2, ax=axs[i,3])\n",
        "  axs[i,3].set_title('Z=%d frequency distribution'%i)\n",
        "  axs[i,3].set_xlim(0,30)\n",
        "\n",
        "  plt.subplots_adjust(bottom=0.4, right=4, top=17, hspace=0.4)\n",
        "  \n",
        "axs[j-1,0].set(xlabel='duration')\n",
        "axs[j-1,1].set(xlabel='start-time')\n",
        "axs[j-1,3].set(xlabel='frequency')\n",
        "# plt.savefig('/content/gdrive/My Drive/Thesis-data/test_multi_14LDA_Other_1t,2f,1.2h,1.2-wSocialServices_boxplot.png',dpi=300, bbox_inches='tight')\n",
        "plt.show"
      ],
      "metadata": {
        "id": "5xQQ4ZBpgOtk"
      },
      "execution_count": null,
      "outputs": []
    }
  ]
}