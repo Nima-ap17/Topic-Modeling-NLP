{
  "nbformat": 4,
  "nbformat_minor": 0,
  "metadata": {
    "colab": {
      "provenance": [],
      "collapsed_sections": []
    },
    "kernelspec": {
      "name": "python3",
      "display_name": "Python 3"
    },
    "language_info": {
      "name": "python"
    }
  },
  "cells": [
    {
      "cell_type": "code",
      "execution_count": null,
      "metadata": {
        "id": "1edphiEC1hhS"
      },
      "outputs": [],
      "source": [
        "from google.colab import drive\n",
        "drive.mount('/content/gdrive')"
      ]
    },
    {
      "cell_type": "code",
      "source": [
        "pip install haversine"
      ],
      "metadata": {
        "id": "5jizHD0w9wij"
      },
      "execution_count": null,
      "outputs": []
    },
    {
      "cell_type": "code",
      "source": [
        "import pandas as pd\n",
        "import datetime\n",
        "import time\n",
        "from haversine import haversine,Unit"
      ],
      "metadata": {
        "id": "sCLoOQb42wKH"
      },
      "execution_count": null,
      "outputs": []
    },
    {
      "cell_type": "code",
      "source": [
        "# @title Reading the data\n",
        "data = pd.read_csv(\"/content/gdrive/My Drive/Thesis-data/1398-11.csv\",low_memory=False)\n",
        "# data = pd.read_csv(\"/content/gdrive/My Drive/Thesis-data/1399-03.csv\",low_memory=False)\n",
        "\n",
        "data = data[data['type o']== 's']\n",
        "data = data[data['type d']== 's']"
      ],
      "metadata": {
        "id": "rVw_IjKT2iaX"
      },
      "execution_count": null,
      "outputs": []
    },
    {
      "cell_type": "code",
      "source": [
        "#@title Reading the location data\n",
        "data_location= pd.read_csv(\"/content/gdrive/My Drive/Thesis-data/location_data1.csv\",low_memory=False)\n",
        "data_location = data_location[data_location['fclass'] == 'railway_station']\n",
        "data_location = data_location.drop(['name','FID','clusters','line code','fclass'],1)"
      ],
      "metadata": {
        "id": "059qSmbv9kSC"
      },
      "execution_count": null,
      "outputs": []
    },
    {
      "cell_type": "code",
      "source": [
        "# @title Modifing data format\n",
        "data = data[data['time d'] != 'none']\n",
        "data = data[data['time d'].isna() != True]\n",
        "\n",
        "data['date & time D'] = pd.to_datetime(data['Date'] + ' ' + data['time d'])\n",
        "data['date & time O'] = pd.to_datetime(data['Date'] + ' ' + data['time o'])\n",
        "\n",
        "data['Date'] = pd.to_datetime(data['Date'], format='%Y-%m-%d')\n",
        "\n",
        "data['Day_name'] = data['Date'].dt.day_name()"
      ],
      "metadata": {
        "id": "ymZGSDRH4UHe"
      },
      "execution_count": null,
      "outputs": []
    },
    {
      "cell_type": "code",
      "source": [
        "data_ID = pd.read_csv(\"/content/gdrive/My Drive/Thesis-data/CH3_F_10000_All(F).csv\",low_memory=False)\n",
        "print(len(data_ID))\n",
        "ID = data_ID['ID'].unique()\n",
        "print(len(ID))"
      ],
      "metadata": {
        "id": "_aw3pPMRRwep"
      },
      "execution_count": null,
      "outputs": []
    },
    {
      "cell_type": "code",
      "source": [
        "#@title Finding frequent users ID\n",
        "data1X = data.groupby(['ID']).size().reset_index(name='count')\n",
        "data2X = data1X[data1X['count'] >= 30]\n",
        "## List of IDs\n",
        "lID = data2X['ID'].unique()"
      ],
      "metadata": {
        "id": "QNa3Ygp4aQbs"
      },
      "execution_count": null,
      "outputs": []
    },
    {
      "cell_type": "code",
      "source": [
        "#@title Extracting all data related to those 10000 IDs \n",
        "lID_2 = lID[:10000]\n",
        "data = data[data['ID'].isin(lID_3)]"
      ],
      "metadata": {
        "id": "_cNRaC2Z2-6k"
      },
      "execution_count": null,
      "outputs": []
    },
    {
      "cell_type": "code",
      "source": [
        "#@title Finding activity attributes from trip sequences for each individual\n",
        "j=[]\n",
        "a=[]\n",
        "def attribute_finder(x):\n",
        "\n",
        "    j.extend(list(x['ID']))\n",
        "    j2 = len(data)\n",
        "\n",
        "    i=0\n",
        "    while i < len(x)-1:\n",
        "        \n",
        "        o = x.iloc[i]\n",
        "        d = x.iloc[i+1]\n",
        "\n",
        "        lat_lng_d = (data_location[data_location['code']==o['d']]['POINT_Y'].values[0],data_location[data_location['code']==o['d']]['POINT_X'].values[0])\n",
        "        lat_lng_o = (data_location[data_location['code']==d['o']]['POINT_Y'].values[0],data_location[data_location['code']==d['o']]['POINT_X'].values[0])\n",
        "        distance = haversine(lat_lng_d,lat_lng_o)\n",
        "\n",
        "        c = (o['ID'],o['Date'], o['Day_name'], o['d'],o['time d'],(d['date & time O']-o['date & time D']).seconds/3600, distance, (o['d'],d['o']))\n",
        "        a.append(c)\n",
        "        i+=1\n",
        "\n",
        "\n",
        "\n",
        "df = data.groupby(data['ID']).apply(attribute_finder)"
      ],
      "metadata": {
        "id": "h_jDZZwQ48of"
      },
      "execution_count": null,
      "outputs": []
    },
    {
      "cell_type": "code",
      "source": [
        "#@title Creating a dataframe of attributes\n",
        "df2 = pd.DataFrame(a, columns=['ID','Date','Day_name','d','time d','duration','distance','stations'])\n",
        "\n",
        "## Choosing activities that have less than 3km between origin and destination\n",
        "df2 = df2[df2['distance'] <= 3]\n",
        "## Choosing activities that have less than 20 hours duration\n",
        "df2 = df2[df2['duration'] <20]\n",
        "## Formating the datasets\n",
        "df2['time d'] = pd.to_datetime(df2['time d']).dt.hour\n",
        "df2['duration'] = df2['duration'].astype(int)\n",
        "df2['duration'] = df2['duration'] + 1\n",
        "## Saving the datasets\n",
        "df2.to_csv(\"/content/gdrive/My Drive/Thesis-data/CH3_F_10000_1398_11_extra10000.csv\",index=False)"
      ],
      "metadata": {
        "id": "Hx7XRALY5GlS"
      },
      "execution_count": null,
      "outputs": []
    }
  ]
}